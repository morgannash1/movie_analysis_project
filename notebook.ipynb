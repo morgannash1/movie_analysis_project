{
 "cells": [
  {
   "cell_type": "markdown",
   "id": "9c3d7d0c-c480-48fe-bad6-7f5407586a53",
   "metadata": {},
   "source": [
    "# Business Understanding"
   ]
  },
  {
   "cell_type": "markdown",
   "id": "aa1031b3-df49-449c-90b1-7f77504fd5a2",
   "metadata": {},
   "source": []
  },
  {
   "cell_type": "markdown",
   "id": "9a093401-026f-4d60-a389-ce4076127c51",
   "metadata": {},
   "source": []
  },
  {
   "cell_type": "code",
   "execution_count": null,
   "id": "cd3d518f-fd34-49fc-acc9-8d1bddc4f0e4",
   "metadata": {},
   "outputs": [],
   "source": []
  },
  {
   "cell_type": "code",
   "execution_count": null,
   "id": "b3756ed6-b43e-495d-81bc-6197258acf0d",
   "metadata": {},
   "outputs": [],
   "source": []
  },
  {
   "cell_type": "markdown",
   "id": "274c62c1-ccdc-4447-b7ec-bea0549aa9e9",
   "metadata": {},
   "source": [
    "# Data Understanding"
   ]
  },
  {
   "cell_type": "markdown",
   "id": "32df9e5a-1006-4599-89c0-235f0ca1ce7a",
   "metadata": {},
   "source": []
  },
  {
   "cell_type": "markdown",
   "id": "eaeea18a-f272-40ef-ad63-a8400f471f5d",
   "metadata": {},
   "source": []
  },
  {
   "cell_type": "code",
   "execution_count": null,
   "id": "de0ca254-1d44-4491-aa71-53157dd6ee99",
   "metadata": {},
   "outputs": [],
   "source": []
  },
  {
   "cell_type": "code",
   "execution_count": null,
   "id": "a227dc46-de64-4ab4-83d5-28dc5be3520d",
   "metadata": {},
   "outputs": [],
   "source": []
  },
  {
   "cell_type": "code",
   "execution_count": null,
   "id": "e4eb5dbc-1dab-42e7-a990-4c5a6914b188",
   "metadata": {},
   "outputs": [],
   "source": []
  },
  {
   "cell_type": "code",
   "execution_count": null,
   "id": "381c5fd7-08da-4455-8a35-94c68bc9e934",
   "metadata": {},
   "outputs": [],
   "source": []
  },
  {
   "cell_type": "markdown",
   "id": "f0358473-b3b6-4c37-8e19-017788a7f163",
   "metadata": {},
   "source": [
    "## Data Preparation"
   ]
  },
  {
   "cell_type": "markdown",
   "id": "f7b6d3c2-d4dd-40ff-8453-de35571c717d",
   "metadata": {},
   "source": []
  },
  {
   "cell_type": "markdown",
   "id": "2a5bdc96-8f62-4936-be38-19736bd1544f",
   "metadata": {},
   "source": []
  },
  {
   "cell_type": "code",
   "execution_count": null,
   "id": "8b25c112-26b1-4d48-84f1-889d82a39d31",
   "metadata": {},
   "outputs": [],
   "source": []
  },
  {
   "cell_type": "code",
   "execution_count": null,
   "id": "9f376478-9448-412c-b405-5db2f5d5c7c2",
   "metadata": {},
   "outputs": [],
   "source": []
  },
  {
   "cell_type": "code",
   "execution_count": null,
   "id": "297a591c-502f-4415-b59e-3c6150870376",
   "metadata": {},
   "outputs": [],
   "source": []
  },
  {
   "cell_type": "code",
   "execution_count": null,
   "id": "0170588b-e927-495d-953e-192583c5bd36",
   "metadata": {},
   "outputs": [],
   "source": []
  },
  {
   "cell_type": "code",
   "execution_count": null,
   "id": "e79a19e6-8d22-4c6f-86b1-df40d680fc06",
   "metadata": {},
   "outputs": [],
   "source": []
  },
  {
   "cell_type": "markdown",
   "id": "56d20ac7-4c80-4f82-94c9-9181cb5740ee",
   "metadata": {},
   "source": [
    "# Exploratory Data Analysis"
   ]
  },
  {
   "cell_type": "markdown",
   "id": "dd7bbfe5-c20a-4dfd-85fd-2b3e0e915cb3",
   "metadata": {},
   "source": []
  },
  {
   "cell_type": "markdown",
   "id": "cca51f37-31b9-4323-9fc6-2cf217a2b125",
   "metadata": {},
   "source": []
  },
  {
   "cell_type": "code",
   "execution_count": null,
   "id": "0ded88ae-4326-486a-bd7b-46357f9317f7",
   "metadata": {},
   "outputs": [],
   "source": []
  },
  {
   "cell_type": "code",
   "execution_count": null,
   "id": "e80a5e30-a3a4-402f-bf58-5ed572f3a5a1",
   "metadata": {},
   "outputs": [],
   "source": []
  },
  {
   "cell_type": "code",
   "execution_count": null,
   "id": "42d0b32c-3a2d-4c21-8cf0-802a717d73b0",
   "metadata": {},
   "outputs": [],
   "source": []
  },
  {
   "cell_type": "code",
   "execution_count": null,
   "id": "bebd6885-5a97-4a47-83cf-f53e03277605",
   "metadata": {},
   "outputs": [],
   "source": []
  },
  {
   "cell_type": "code",
   "execution_count": null,
   "id": "525fd914-56e2-48b5-8779-1140c7d4ca69",
   "metadata": {},
   "outputs": [],
   "source": []
  },
  {
   "cell_type": "markdown",
   "id": "eebc0623-17be-427e-ba8b-61e7de46880b",
   "metadata": {},
   "source": [
    "# Conclusions"
   ]
  },
  {
   "cell_type": "markdown",
   "id": "8e1121fb-f193-4eeb-8835-fc5529b7786a",
   "metadata": {},
   "source": []
  },
  {
   "cell_type": "markdown",
   "id": "af6b16b5-4fa2-45be-9afa-58b1e85de9b8",
   "metadata": {},
   "source": []
  },
  {
   "cell_type": "code",
   "execution_count": null,
   "id": "7ef24dac-b180-42a1-b915-0b9da16794fe",
   "metadata": {},
   "outputs": [],
   "source": []
  },
  {
   "cell_type": "code",
   "execution_count": null,
   "id": "59906f8c-e0e5-45ff-a492-0e7aedfac804",
   "metadata": {},
   "outputs": [],
   "source": []
  },
  {
   "cell_type": "markdown",
   "id": "f7cea995-e0b1-46fb-a392-62de8281f912",
   "metadata": {},
   "source": [
    "## Limitations"
   ]
  },
  {
   "cell_type": "markdown",
   "id": "33882cfd-fbcf-42a4-8af6-bdeb0649f17c",
   "metadata": {},
   "source": []
  },
  {
   "cell_type": "markdown",
   "id": "cd018f25-615a-4da6-ad15-0184b5077a11",
   "metadata": {},
   "source": [
    "## Recommendations"
   ]
  },
  {
   "cell_type": "markdown",
   "id": "372b7a99-2896-450f-9fa2-2fa1042b5ea7",
   "metadata": {},
   "source": []
  },
  {
   "cell_type": "markdown",
   "id": "b3107573-50f0-4d39-996c-fe960c37c8c0",
   "metadata": {},
   "source": [
    "## Next Steps"
   ]
  },
  {
   "cell_type": "markdown",
   "id": "e9ee6f10-22d0-450d-a4f8-c3f601d28e68",
   "metadata": {},
   "source": []
  }
 ],
 "metadata": {
  "kernelspec": {
   "display_name": "Python (learn-env)",
   "language": "python",
   "name": "learn-env"
  },
  "language_info": {
   "codemirror_mode": {
    "name": "ipython",
    "version": 3
   },
   "file_extension": ".py",
   "mimetype": "text/x-python",
   "name": "python",
   "nbconvert_exporter": "python",
   "pygments_lexer": "ipython3",
   "version": "3.8.5"
  }
 },
 "nbformat": 4,
 "nbformat_minor": 5
}
